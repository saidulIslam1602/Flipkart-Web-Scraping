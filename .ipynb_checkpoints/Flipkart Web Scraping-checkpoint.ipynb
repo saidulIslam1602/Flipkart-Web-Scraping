{
 "cells": [
  {
   "cell_type": "code",
   "execution_count": 2,
   "metadata": {},
   "outputs": [],
   "source": [
    "from bs4 import BeautifulSoup as soup"
   ]
  },
  {
   "cell_type": "code",
   "execution_count": 7,
   "metadata": {},
   "outputs": [],
   "source": [
    "from urllib.request import urlopen as UrlReq"
   ]
  },
  {
   "cell_type": "code",
   "execution_count": 8,
   "metadata": {},
   "outputs": [],
   "source": [
    "my_url ='https://www.flipkart.com/search?q=iphone&otracker=search&otracker1=search&marketplace=FLIPKART&as-show=on&as=off'"
   ]
  },
  {
   "cell_type": "code",
   "execution_count": 13,
   "metadata": {},
   "outputs": [],
   "source": [
    "uClient = UrlReq(my_url)\n",
    "page_html =uClient.read()\n",
    "uClient.close()\n",
    "page_soup =soup(page_html,\"html.parser\")"
   ]
  },
  {
   "cell_type": "code",
   "execution_count": 28,
   "metadata": {},
   "outputs": [],
   "source": [
    "containers = page_soup.findAll(\"div\",{\"class\":\"_1-2Iqu row\"})"
   ]
  },
  {
   "cell_type": "code",
   "execution_count": 29,
   "metadata": {},
   "outputs": [
    {
     "name": "stdout",
     "output_type": "stream",
     "text": [
      "24\n"
     ]
    }
   ],
   "source": [
    "print(len(containers))"
   ]
  },
  {
   "cell_type": "code",
   "execution_count": 31,
   "metadata": {},
   "outputs": [
    {
     "name": "stdout",
     "output_type": "stream",
     "text": [
      "<div class=\"_1-2Iqu row\">\n",
      " <div class=\"col col-7-12\">\n",
      "  <div class=\"_3wU53n\">\n",
      "   Apple iPhone XR (Black, 64 GB) (Includes EarPods, Power Adapter)\n",
      "  </div>\n",
      "  <div class=\"niH0FQ\">\n",
      "   <span class=\"_2_KrJI\" id=\"productRating_LSTMOBF9Z7ZPHGV4GNH9IFADQ_MOBF9Z7ZPHGV4GNH_\">\n",
      "    <div class=\"hGSR34\">\n",
      "     4.6\n",
      "     <img class=\"_2lQ_WZ\" src=\"data:image/svg+xml;base64,PHN2ZyB4bWxucz0iaHR0cDovL3d3dy53My5vcmcvMjAwMC9zdmciIHdpZHRoPSIxMyIgaGVpZ2h0PSIxMiI+PHBhdGggZmlsbD0iI0ZGRiIgZD0iTTYuNSA5LjQzOWwtMy42NzQgMi4yMy45NC00LjI2LTMuMjEtMi44ODMgNC4yNTQtLjQwNEw2LjUuMTEybDEuNjkgNC4wMSA0LjI1NC40MDQtMy4yMSAyLjg4Mi45NCA0LjI2eiIvPjwvc3ZnPg==\"/>\n",
      "    </div>\n",
      "   </span>\n",
      "   <span class=\"_38sUEc\">\n",
      "    <span>\n",
      "     <span>\n",
      "      45,959 Ratings\n",
      "     </span>\n",
      "     <span class=\"_1VpSqZ\">\n",
      "      &amp;\n",
      "     </span>\n",
      "     <span>\n",
      "      3,629 Reviews\n",
      "     </span>\n",
      "    </span>\n",
      "   </span>\n",
      "  </div>\n",
      "  <div class=\"_3ULzGw\">\n",
      "   <ul class=\"vFw0gD\">\n",
      "    <li class=\"tVe95H\">\n",
      "     64 GB ROM\n",
      "    </li>\n",
      "    <li class=\"tVe95H\">\n",
      "     15.5 cm (6.102 inch) Display\n",
      "    </li>\n",
      "    <li class=\"tVe95H\">\n",
      "     12MP Rear Camera | 7MP Front Camera\n",
      "    </li>\n",
      "    <li class=\"tVe95H\">\n",
      "     A12 Bionic Chip Processor\n",
      "    </li>\n",
      "    <li class=\"tVe95H\">\n",
      "     iOS 13 Compatible\n",
      "    </li>\n",
      "    <li class=\"tVe95H\">\n",
      "     Brand Warranty of 1 Year\n",
      "    </li>\n",
      "   </ul>\n",
      "  </div>\n",
      " </div>\n",
      " <div class=\"col col-5-12 _2o7WAb\">\n",
      "  <div class=\"_6BWGkk\">\n",
      "   <div class=\"_1uv9Cb\">\n",
      "    <div class=\"_1vC4OE _2rQ-NK\">\n",
      "     ₹39,999\n",
      "    </div>\n",
      "    <div class=\"_3auQ3N _2GcJzG\">\n",
      "     ₹\n",
      "     <!-- -->\n",
      "     52,500\n",
      "    </div>\n",
      "    <div class=\"VGWI6T\">\n",
      "     <span>\n",
      "      23% off\n",
      "     </span>\n",
      "    </div>\n",
      "   </div>\n",
      "  </div>\n",
      "  <div class=\"_3n6o0t\">\n",
      "   <img height=\"21\" src=\"//img1a.flixcart.com/www/linchpin/fk-cp-zion/img/fa_8b4b59.png\"/>\n",
      "  </div>\n",
      "  <div class=\"_2nE8_R\">\n",
      "   <div class=\"_3_G5Wj\" style=\"color:#000000;font-size:12px;font-family:inherit;font-weight:normal\">\n",
      "    No Cost EMI\n",
      "   </div>\n",
      "  </div>\n",
      "  <div class=\"_2nE8_R\">\n",
      "   <div class=\"_3_G5Wj\" style=\"color:#000000;font-size:14px;font-family:inherit;font-weight:normal\">\n",
      "    Upto\n",
      "   </div>\n",
      "   <div class=\"_3_G5Wj\" style=\"color:#000000;font-size:14px;font-family:inherit;font-weight:bold\">\n",
      "    ₹14,350\n",
      "   </div>\n",
      "   <div class=\"_3_G5Wj\" style=\"color:#000000;font-size:14px;font-family:inherit;font-weight:normal\">\n",
      "    Off on Exchange\n",
      "   </div>\n",
      "  </div>\n",
      " </div>\n",
      "</div>\n"
     ]
    }
   ],
   "source": [
    "print(soup.prettify(containers[0]))\n",
    "container=containers[0]"
   ]
  },
  {
   "cell_type": "code",
   "execution_count": 47,
   "metadata": {
    "scrolled": true
   },
   "outputs": [
    {
     "name": "stdout",
     "output_type": "stream",
     "text": [
      "Apple iPhone XR (Black, 64 GB) (Includes EarPods, Power Adapter)\n"
     ]
    }
   ],
   "source": [
    "title =container.findAll(\"div\",{\"class\":\"_3wU53n\"})\n",
    "#print(title[0].text)"
   ]
  },
  {
   "cell_type": "code",
   "execution_count": 48,
   "metadata": {},
   "outputs": [
    {
     "name": "stdout",
     "output_type": "stream",
     "text": [
      "64 GB ROM15.5 cm (6.102 inch) Display12MP Rear Camera | 7MP Front CameraA12 Bionic Chip ProcessoriOS 13 CompatibleBrand Warranty of 1 Year\n"
     ]
    }
   ],
   "source": [
    "description =container.findAll(\"div\",{\"class\":\"_3ULzGw\"})\n",
    "#print(description[0].text)"
   ]
  },
  {
   "cell_type": "code",
   "execution_count": 49,
   "metadata": {},
   "outputs": [
    {
     "name": "stdout",
     "output_type": "stream",
     "text": [
      "4.6\n"
     ]
    }
   ],
   "source": [
    "rating = container.findAll(\"div\",{\"class\":\"hGSR34\"})\n",
    "#print(rating[0].text)"
   ]
  },
  {
   "cell_type": "code",
   "execution_count": 50,
   "metadata": {},
   "outputs": [
    {
     "name": "stdout",
     "output_type": "stream",
     "text": [
      "₹52,500\n"
     ]
    }
   ],
   "source": [
    "price = container.findAll(\"div\",{\"class\":\"_3auQ3N _2GcJzG\"})\n",
    "#print(price[0].text)"
   ]
  },
  {
   "cell_type": "code",
   "execution_count": 51,
   "metadata": {},
   "outputs": [],
   "source": [
    "file_name = \"flipkart_products.csv\"\n",
    "f =open(file_name,\"w\")"
   ]
  },
  {
   "cell_type": "code",
   "execution_count": 56,
   "metadata": {},
   "outputs": [
    {
     "data": {
      "text/plain": [
       "28"
      ]
     },
     "execution_count": 56,
     "metadata": {},
     "output_type": "execute_result"
    }
   ],
   "source": [
    "headers =\"Product Name, Rating, Price\\n\"\n",
    "f.write(headers)"
   ]
  },
  {
   "cell_type": "code",
   "execution_count": 57,
   "metadata": {},
   "outputs": [
    {
     "name": "stdout",
     "output_type": "stream",
     "text": [
      "product name Apple iPhone XR (Black, 64 GB) (Includes EarPods, Power Adapter)\n",
      "price ₹52,500\n",
      "rating 4.6\n",
      "product name Apple iPhone XR (Black, 128 GB) (Includes EarPods, Power Adapter)\n",
      "price ₹57,800\n",
      "rating 4.6\n",
      "product name Apple iPhone XR (White, 64 GB) (Includes EarPods, Power Adapter)\n",
      "price ₹52,500\n",
      "rating 4.6\n",
      "product name Apple iPhone SE (Black, 64 GB) (Includes EarPods, Power Adapter)\n",
      "price ₹42,500\n",
      "rating 4.6\n",
      "product name Apple iPhone XR ((PRODUCT)RED, 64 GB) (Includes EarPods, Power Adapter)\n",
      "price ₹52,500\n",
      "rating 4.6\n",
      "product name Apple iPhone SE (White, 64 GB) (Includes EarPods, Power Adapter)\n",
      "price ₹42,500\n",
      "rating 4.6\n",
      "product name Apple iPhone XR (White, 128 GB) (Includes EarPods, Power Adapter)\n",
      "price ₹57,800\n",
      "rating 4.6\n",
      "product name Apple iPhone SE (Red, 64 GB) (Includes EarPods, Power Adapter)\n",
      "price ₹42,500\n",
      "rating 4.6\n",
      "product name Apple iPhone XR (Coral, 64 GB) (Includes EarPods, Power Adapter)\n",
      "price ₹52,500\n",
      "rating 4.6\n",
      "product name Apple iPhone XR (Blue, 64 GB) (Includes EarPods, Power Adapter)\n",
      "price ₹52,500\n",
      "rating 4.6\n",
      "product name Apple iPhone XR ((PRODUCT)RED, 128 GB) (Includes EarPods, Power Adapter)\n",
      "price ₹57,800\n",
      "rating 4.6\n",
      "product name Apple iPhone SE (Black, 128 GB) (Includes EarPods, Power Adapter)\n",
      "price ₹47,800\n",
      "rating 4.6\n",
      "product name Apple iPhone SE (White, 128 GB) (Includes EarPods, Power Adapter)\n",
      "price ₹47,800\n",
      "rating 4.6\n",
      "product name Apple iPhone SE (Red, 128 GB) (Includes EarPods, Power Adapter)\n",
      "price ₹47,800\n",
      "rating 4.6\n",
      "product name Apple iPhone 11 Pro (Midnight Green, 64 GB)\n",
      "price ₹1,06,600\n",
      "rating 4.7\n",
      "product name Apple iPhone XR (Blue, 128 GB) (Includes EarPods, Power Adapter)\n",
      "price ₹57,800\n",
      "rating 4.6\n",
      "product name Apple iPhone XR (Coral, 128 GB) (Includes EarPods, Power Adapter)\n",
      "price ₹57,800\n",
      "rating 4.6\n",
      "product name Apple iPhone 11 Pro (Midnight Green, 256 GB)\n",
      "price ₹1,21,300\n",
      "rating 4.7\n",
      "product name Apple iPhone SE (Black, 256 GB) (Includes EarPods, Power Adapter)\n",
      "price ₹58,300\n",
      "rating 4.6\n",
      "product name Apple iPhone 11 Pro (Space Grey, 64 GB)\n",
      "price ₹1,06,600\n",
      "rating 4.7\n",
      "product name Apple iPhone SE (Red, 256 GB) (Includes EarPods, Power Adapter)\n",
      "price ₹58,300\n",
      "rating 4.6\n",
      "product name Apple iPhone SE (White, 256 GB) (Includes EarPods, Power Adapter)\n",
      "price ₹58,300\n",
      "rating 4.6\n",
      "product name Apple iPhone 11 Pro (Midnight Green, 512 GB)\n",
      "price ₹1,40,300\n",
      "rating 4.7\n",
      "product name Apple iPhone 11 Pro (Silver, 64 GB)\n",
      "price ₹1,06,600\n",
      "rating 4.7\n"
     ]
    }
   ],
   "source": [
    "for container in containers:\n",
    "    title_container = container.findAll(\"div\",{\"class\":\"_3wU53n\"})\n",
    "    title = title_container[0].text.strip()\n",
    "    \n",
    "    description_container = container.findAll(\"div\",{\"class\":\"_3ULzGw\"})\n",
    "    description = description_container [0].text.strip()\n",
    "    \n",
    "    rating_container = container.findAll(\"div\",{\"class\":\"hGSR34\"})\n",
    "    rating =rating_container [0].text.strip()\n",
    "    \n",
    "    price_container = container.findAll(\"div\",{\"class\":\"_3auQ3N _2GcJzG\"})\n",
    "    price =price_container [0].text.strip()\n",
    "    \n",
    "    print(\"Product Name \" + title)\n",
    "    print(\"Price \" + price)\n",
    "    print(\"Rating \" + rating)"
   ]
  },
  {
   "cell_type": "code",
   "execution_count": null,
   "metadata": {},
   "outputs": [],
   "source": []
  }
 ],
 "metadata": {
  "kernelspec": {
   "display_name": "Python 3",
   "language": "python",
   "name": "python3"
  },
  "language_info": {
   "codemirror_mode": {
    "name": "ipython",
    "version": 3
   },
   "file_extension": ".py",
   "mimetype": "text/x-python",
   "name": "python",
   "nbconvert_exporter": "python",
   "pygments_lexer": "ipython3",
   "version": "3.8.3"
  }
 },
 "nbformat": 4,
 "nbformat_minor": 4
}
